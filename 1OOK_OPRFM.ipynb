{
  "cells": [
    {
      "cell_type": "code",
      "execution_count": 1,
      "metadata": {
        "colab": {
          "base_uri": "https://localhost:8080/"
        },
        "id": "tAb77yZ9fzMG",
        "outputId": "4c565449-48ad-431c-95cb-8c67d914dfca"
      },
      "outputs": [
        {
          "output_type": "stream",
          "name": "stdout",
          "text": [
            "Collecting myfm\n",
            "  Downloading myfm-0.3.6-cp310-cp310-manylinux_2_17_x86_64.manylinux2014_x86_64.whl (426 kB)\n",
            "\u001b[2K     \u001b[90m━━━━━━━━━━━━━━━━━━━━━━━━━━━━━━━━━━━━━━━━\u001b[0m \u001b[32m426.9/426.9 kB\u001b[0m \u001b[31m2.7 MB/s\u001b[0m eta \u001b[36m0:00:00\u001b[0m\n",
            "\u001b[?25hRequirement already satisfied: numpy>=1.11 in /usr/local/lib/python3.10/dist-packages (from myfm) (1.23.5)\n",
            "Requirement already satisfied: scipy>=1.0 in /usr/local/lib/python3.10/dist-packages (from myfm) (1.11.4)\n",
            "Requirement already satisfied: tqdm>=4 in /usr/local/lib/python3.10/dist-packages (from myfm) (4.66.1)\n",
            "Requirement already satisfied: pandas>=1.0.0 in /usr/local/lib/python3.10/dist-packages (from myfm) (1.5.3)\n",
            "Requirement already satisfied: typing-extensions>=4.0.0 in /usr/local/lib/python3.10/dist-packages (from myfm) (4.5.0)\n",
            "Requirement already satisfied: python-dateutil>=2.8.1 in /usr/local/lib/python3.10/dist-packages (from pandas>=1.0.0->myfm) (2.8.2)\n",
            "Requirement already satisfied: pytz>=2020.1 in /usr/local/lib/python3.10/dist-packages (from pandas>=1.0.0->myfm) (2023.3.post1)\n",
            "Requirement already satisfied: six>=1.5 in /usr/local/lib/python3.10/dist-packages (from python-dateutil>=2.8.1->pandas>=1.0.0->myfm) (1.16.0)\n",
            "Installing collected packages: myfm\n",
            "Successfully installed myfm-0.3.6\n"
          ]
        }
      ],
      "source": [
        "pip install myfm"
      ]
    },
    {
      "cell_type": "code",
      "execution_count": 2,
      "metadata": {
        "id": "pafL7Li0jyXW"
      },
      "outputs": [],
      "source": [
        "import numpy as np\n",
        "from sklearn import metrics\n",
        "from sklearn.preprocessing import OneHotEncoder\n",
        "from scipy import sparse as sps\n",
        "\n",
        "import myfm\n",
        "from myfm import RelationBlock\n",
        "import pandas as pd\n",
        "\n",
        "# read movielens  data.\n",
        "from myfm.utils.benchmark_data import MovieLens100kDataManager\n",
        "#from myfm.utils.benchmark_data import MovieLens1MDataManager"
      ]
    },
    {
      "cell_type": "code",
      "source": [
        "#from myfm.utils.benchmark_data import MovieLens10MDataManager"
      ],
      "metadata": {
        "id": "kj0mSAnVbWCC"
      },
      "execution_count": 3,
      "outputs": []
    },
    {
      "cell_type": "code",
      "source": [
        "#data_manager = MovieLens10MDataManager()\n",
        "data_manager = MovieLens100kDataManager()"
      ],
      "metadata": {
        "id": "jOenXTCeVvLO",
        "colab": {
          "base_uri": "https://localhost:8080/"
        },
        "outputId": "ccd86b8a-4a80-4414-e836-281fc33e58fa"
      },
      "execution_count": 3,
      "outputs": [
        {
          "output_type": "stream",
          "name": "stdout",
          "text": [
            "Could not find /root/.ml-100k.zip.\n",
            "Can I download and save it there?[y/N]y\n",
            "start download...\n",
            "complete\n"
          ]
        }
      ]
    },
    {
      "cell_type": "code",
      "source": [
        "from google.colab import drive\n",
        "drive.mount('/content/drive')"
      ],
      "metadata": {
        "id": "tc-EKJ4aVyse",
        "colab": {
          "base_uri": "https://localhost:8080/"
        },
        "outputId": "45c6ebb5-5150-4150-8b63-458c0525926c"
      },
      "execution_count": 4,
      "outputs": [
        {
          "output_type": "stream",
          "name": "stdout",
          "text": [
            "Mounted at /content/drive\n"
          ]
        }
      ]
    },
    {
      "cell_type": "code",
      "source": [
        "#!pip install surprise"
      ],
      "metadata": {
        "colab": {
          "base_uri": "https://localhost:8080/"
        },
        "id": "meCX1rJ1WOF0",
        "outputId": "77858304-aa4a-4270-ed97-b352f4907fc8"
      },
      "execution_count": 5,
      "outputs": [
        {
          "output_type": "stream",
          "name": "stdout",
          "text": [
            "Collecting surprise\n",
            "  Downloading surprise-0.1-py2.py3-none-any.whl (1.8 kB)\n",
            "Collecting scikit-surprise (from surprise)\n",
            "  Downloading scikit-surprise-1.1.3.tar.gz (771 kB)\n",
            "\u001b[2K     \u001b[90m━━━━━━━━━━━━━━━━━━━━━━━━━━━━━━━━━━━━━━━━\u001b[0m \u001b[32m772.0/772.0 kB\u001b[0m \u001b[31m3.0 MB/s\u001b[0m eta \u001b[36m0:00:00\u001b[0m\n",
            "\u001b[?25h  Preparing metadata (setup.py) ... \u001b[?25l\u001b[?25hdone\n",
            "Requirement already satisfied: joblib>=1.0.0 in /usr/local/lib/python3.10/dist-packages (from scikit-surprise->surprise) (1.3.2)\n",
            "Requirement already satisfied: numpy>=1.17.3 in /usr/local/lib/python3.10/dist-packages (from scikit-surprise->surprise) (1.23.5)\n",
            "Requirement already satisfied: scipy>=1.3.2 in /usr/local/lib/python3.10/dist-packages (from scikit-surprise->surprise) (1.11.4)\n",
            "Building wheels for collected packages: scikit-surprise\n",
            "  Building wheel for scikit-surprise (setup.py) ... \u001b[?25l\u001b[?25hdone\n",
            "  Created wheel for scikit-surprise: filename=scikit_surprise-1.1.3-cp310-cp310-linux_x86_64.whl size=3163752 sha256=423eb70092b7786a253ec24d2342e0f0aaf7d8293d1341cc7c0a323f0cd409fd\n",
            "  Stored in directory: /root/.cache/pip/wheels/a5/ca/a8/4e28def53797fdc4363ca4af740db15a9c2f1595ebc51fb445\n",
            "Successfully built scikit-surprise\n",
            "Installing collected packages: scikit-surprise, surprise\n",
            "Successfully installed scikit-surprise-1.1.3 surprise-0.1\n"
          ]
        }
      ]
    },
    {
      "cell_type": "code",
      "source": [
        "from surprise import Dataset, Reader"
      ],
      "metadata": {
        "id": "RyD_OXgsXMvc"
      },
      "execution_count": 6,
      "outputs": []
    },
    {
      "cell_type": "code",
      "execution_count": 7,
      "metadata": {
        "id": "gf79YbnwRS7c",
        "colab": {
          "base_uri": "https://localhost:8080/"
        },
        "outputId": "60b90560-ea7f-4955-caa1-6341c2c35d88"
      },
      "outputs": [
        {
          "output_type": "execute_result",
          "data": {
            "text/plain": [
              "<myfm.utils.benchmark_data.movielens100k_data.MovieLens100kDataManager at 0x7b0bd21a8f10>"
            ]
          },
          "metadata": {},
          "execution_count": 7
        }
      ],
      "source": [
        "data_manager\n"
      ]
    },
    {
      "cell_type": "code",
      "execution_count": 8,
      "metadata": {
        "id": "dWlICI4RW73S"
      },
      "outputs": [],
      "source": [
        "df_train, df_test = data_manager.load_rating_kfold_split(K=10, fold=0)\n",
        "\n",
        "# For ordered probit. rating values are now [0, 1, 2, 3, 4].\n",
        "df_train.rating -= 1\n",
        "df_test.rating -= 1\n",
        "\n",
        "# Create dictionaries which map user/movie ids to internal indices.\n",
        "# We have also prepared a utility class which makes this common routine easier.\n",
        "# See the script version of this notebook (ml-1m-regression.py).\n",
        "unique_user_ids = np.unique(df_train.user_id)\n",
        "unique_movie_ids = np.unique(df_test.movie_id)\n",
        "user_id_to_index = { uid: i for i, uid in enumerate(unique_user_ids)}\n",
        "movie_id_to_index = { mid: i for i, mid in enumerate(unique_movie_ids)}"
      ]
    },
    {
      "cell_type": "code",
      "execution_count": 9,
      "metadata": {
        "id": "n7pup_LDW_jN"
      },
      "outputs": [],
      "source": [
        "# treat the days of events as categorical variable\n",
        "date_be = OneHotEncoder(handle_unknown='ignore').fit(\n",
        "    df_train.timestamp.dt.floor('d').values.reshape(-1, 1)\n",
        ")\n",
        "def categorize_date(dates: pd):\n",
        "    return date_be.transform(\n",
        "        pd.to_datetime(dates).dt.floor('d').values.reshape((-1, 1))\n",
        "    )"
      ]
    },
    {
      "cell_type": "code",
      "execution_count": 10,
      "metadata": {
        "id": "jqu_m62gXCC2"
      },
      "outputs": [],
      "source": [
        "# Implement side information and flavor of SVD++\n",
        "# We add \"all users who have evaluated a movie in the train set\" or\n",
        "# \"all movies rated by a user\" as a feature of user/movie.\n",
        "use_date = True # use date info or not\n",
        "use_iu = True # use implicit user feature\n",
        "use_ii = True # use implicit item feature\n",
        "\n",
        "movie_vs_watched = dict()\n",
        "user_vs_watched = dict()\n",
        "for row in df_train.itertuples():\n",
        "    user_id = row.user_id\n",
        "    movie_id = row.movie_id\n",
        "    movie_vs_watched.setdefault(movie_id, list()).append(user_id)\n",
        "    user_vs_watched.setdefault(user_id, list()).append(movie_id)\n",
        "\n",
        "if use_date:\n",
        "    X_date_train = categorize_date(df_train.timestamp)\n",
        "    X_date_test  = categorize_date(df_test.timestamp)\n",
        "else:\n",
        "    X_date_train, X_date_test = (None, None)"
      ]
    },
    {
      "cell_type": "code",
      "execution_count": 11,
      "metadata": {
        "id": "kWNsAepMXEQL"
      },
      "outputs": [],
      "source": [
        "# setup grouping\n",
        "feature_group_sizes = []\n",
        "if use_date:\n",
        "    feature_group_sizes.append(\n",
        "        len(date_be.categories_[0]), # date\n",
        "    )\n",
        "\n",
        "feature_group_sizes.append(len(user_id_to_index)) # user ids\n",
        "\n",
        "if use_iu:\n",
        "    feature_group_sizes.append(len(movie_id_to_index))\n",
        "\n",
        "feature_group_sizes.append(len(movie_id_to_index)) # movie ids\n",
        "\n",
        "if use_ii:\n",
        "    feature_group_sizes.append(\n",
        "        len(user_id_to_index) # all users who watched the movies\n",
        "    )"
      ]
    },
    {
      "cell_type": "code",
      "execution_count": 12,
      "metadata": {
        "id": "NeRMBqrEWYD9",
        "colab": {
          "base_uri": "https://localhost:8080/"
        },
        "outputId": "08e3bbec-693b-45b8-d194-c8077d64d858"
      },
      "outputs": [
        {
          "output_type": "execute_result",
          "data": {
            "text/plain": [
              "[213, 943, 1257, 1257, 943]"
            ]
          },
          "metadata": {},
          "execution_count": 12
        }
      ],
      "source": [
        "feature_group_sizes"
      ]
    },
    {
      "cell_type": "code",
      "execution_count": 13,
      "metadata": {
        "id": "7piB_rrYXGI9"
      },
      "outputs": [],
      "source": [
        "# given user/movie ids, add additional infos and return it as sparse\n",
        "def augment_user_id(user_ids):\n",
        "    X = sps.lil_matrix((len(user_ids), len(user_id_to_index) + (len(movie_id_to_index) if use_iu else 0) ))\n",
        "    for index, user_id in enumerate(user_ids):\n",
        "        if user_id in user_id_to_index:\n",
        "            X[index, user_id_to_index[user_id]] = 1\n",
        "        if not use_iu:\n",
        "            continue\n",
        "        watched_movies = user_vs_watched.get(user_id, [])\n",
        "        normalizer = 1 / max(len(watched_movies), 1) ** 0.5\n",
        "        for mid in watched_movies:\n",
        "            if mid in movie_id_to_index:\n",
        "                X[index, movie_id_to_index[mid] + len(user_id_to_index)] = normalizer\n",
        "    return X.tocsr()\n",
        "\n",
        "def augment_movie_id(movie_ids):\n",
        "    X = sps.lil_matrix((len(movie_ids), len(movie_id_to_index)+ (len(user_id_to_index) if use_ii else 0 )))\n",
        "    for index, movie_id in enumerate(movie_ids):\n",
        "        if movie_id in movie_id_to_index:\n",
        "            X[index, movie_id_to_index[movie_id]] = 1\n",
        "        if not use_ii:\n",
        "            continue\n",
        "        watched_users = movie_vs_watched.get(movie_id, [])\n",
        "        normalizer = 1 / max(len(watched_users), 1) ** 0.5\n",
        "        for uid in watched_users:\n",
        "            if uid in user_id_to_index:\n",
        "                X[index, user_id_to_index[uid] + len(movie_id_to_index)] = normalizer\n",
        "    return X.tocsr()"
      ]
    },
    {
      "cell_type": "code",
      "execution_count": 14,
      "metadata": {
        "id": "dO2N6lQJXIIy"
      },
      "outputs": [],
      "source": [
        "# Create RelationBlock.\n",
        "train_blocks = []\n",
        "test_blocks = []\n",
        "for source, target in [(df_train, train_blocks), (df_test, test_blocks)]:\n",
        "    unique_users, user_map = np.unique(source.user_id, return_inverse=True)\n",
        "    target.append(\n",
        "        RelationBlock(user_map, augment_user_id(unique_users))\n",
        "    )\n",
        "    unique_movies, movie_map = np.unique(source.movie_id, return_inverse=True)\n",
        "    target.append(\n",
        "        RelationBlock(movie_map, augment_movie_id(unique_movies))\n",
        "    )"
      ]
    },
    {
      "cell_type": "markdown",
      "metadata": {
        "id": "-ZlWdZp9EjWB"
      },
      "source": [
        "VariationalFMRegressor"
      ]
    },
    {
      "cell_type": "markdown",
      "metadata": {
        "id": "6NO8LaI3EyFu"
      },
      "source": [
        "VariationalFMClassifier\n",
        "\n",
        "\n",
        "MyFMGibbsClassifier"
      ]
    },
    {
      "cell_type": "code",
      "execution_count": 15,
      "metadata": {
        "id": "i1aRB4yNEx4X",
        "colab": {
          "base_uri": "https://localhost:8080/"
        },
        "outputId": "c3a84b91-618a-45ac-a999-e16ffe7ea50c"
      },
      "outputs": [
        {
          "output_type": "stream",
          "name": "stderr",
          "text": [
            "alpha = 1.22 w0 = 1.96 : 100%|██████████| 200/200 [01:57<00:00,  1.71it/s]\n"
          ]
        }
      ],
      "source": [
        "fm1 = myfm.VariationalFMRegressor(rank=32)\n",
        "fm1.fit(\n",
        "    X_date_train, df_train.rating.values, X_rel=train_blocks,\n",
        "    group_shapes=feature_group_sizes,\n",
        "    n_iter=200\n",
        ");"
      ]
    },
    {
      "cell_type": "code",
      "execution_count": 17,
      "metadata": {
        "id": "ndq_zI_8G69Q"
      },
      "outputs": [],
      "source": [
        "test_prediction_regressor = fm1.predict(X_date_test, test_blocks)"
      ]
    },
    {
      "cell_type": "code",
      "execution_count": 18,
      "metadata": {
        "id": "j-Fja7pXG65t",
        "colab": {
          "base_uri": "https://localhost:8080/"
        },
        "outputId": "bcada4d3-c0d5-4756-8698-4a4cf58c454f"
      },
      "outputs": [
        {
          "output_type": "execute_result",
          "data": {
            "text/plain": [
              "0.8880580446661344"
            ]
          },
          "metadata": {},
          "execution_count": 18
        }
      ],
      "source": [
        "# RMSE for regressor\n",
        "# you can clip the value with\n",
        "test_prediction_regressor[test_prediction_regressor >=4] = 4\n",
        "test_prediction_regressor[test_prediction_regressor <=0] = 0\n",
        "(\n",
        "    (df_test.rating.values - test_prediction_regressor)**2\n",
        ").mean() ** 0.5"
      ]
    },
    {
      "cell_type": "code",
      "execution_count": 18,
      "metadata": {
        "id": "Y4_H26xWG62m"
      },
      "outputs": [],
      "source": []
    },
    {
      "cell_type": "code",
      "execution_count": 19,
      "metadata": {
        "id": "7APHndPHFDAM",
        "colab": {
          "base_uri": "https://localhost:8080/"
        },
        "outputId": "c6723f49-c98a-4629-99e2-8180a44b0d2e"
      },
      "outputs": [
        {
          "output_type": "stream",
          "name": "stderr",
          "text": [
            "alpha = 2.20 w0 = 2.50 : 100%|██████████| 200/200 [01:03<00:00,  3.17it/s]\n"
          ]
        }
      ],
      "source": [
        "fm2 = myfm.MyFMGibbsRegressor(rank=32)\n",
        "fm2.fit(\n",
        "    X_date_train, df_train.rating.values, X_rel=train_blocks,\n",
        "    group_shapes=feature_group_sizes,\n",
        "    n_iter=200\n",
        ");"
      ]
    },
    {
      "cell_type": "code",
      "execution_count": 20,
      "metadata": {
        "id": "Esb5_NqdFC9T"
      },
      "outputs": [],
      "source": [
        "test_prediction_regressor = fm2.predict(X_date_test, test_blocks)"
      ]
    },
    {
      "cell_type": "code",
      "execution_count": 21,
      "metadata": {
        "id": "tL-wA3fSFC4d",
        "colab": {
          "base_uri": "https://localhost:8080/"
        },
        "outputId": "1cab6a70-3680-4bb4-c64f-845619e5d53e"
      },
      "outputs": [
        {
          "output_type": "execute_result",
          "data": {
            "text/plain": [
              "0.8770110681108894"
            ]
          },
          "metadata": {},
          "execution_count": 21
        }
      ],
      "source": [
        "(\n",
        "    (df_test.rating.values - test_prediction_regressor)**2\n",
        ").mean() ** 0.5"
      ]
    },
    {
      "cell_type": "code",
      "execution_count": 21,
      "metadata": {
        "id": "hArxMIREFC1n"
      },
      "outputs": [],
      "source": []
    },
    {
      "cell_type": "code",
      "execution_count": 21,
      "metadata": {
        "id": "Plzw7gQBFCsq"
      },
      "outputs": [],
      "source": []
    },
    {
      "cell_type": "code",
      "execution_count": 22,
      "metadata": {
        "id": "SvM27FRdXKan",
        "colab": {
          "base_uri": "https://localhost:8080/"
        },
        "outputId": "5e2ba405-7074-4fcd-903c-3d21bd022a17"
      },
      "outputs": [
        {
          "output_type": "stream",
          "name": "stderr",
          "text": [
            "alpha = 2.20 w0 = 2.50 : 100%|██████████| 200/200 [01:00<00:00,  3.28it/s]\n"
          ]
        }
      ],
      "source": [
        "fm = myfm.MyFMRegressor(rank=32)\n",
        "fm.fit(\n",
        "    X_date_train, df_train.rating.values, X_rel=train_blocks,\n",
        "    group_shapes=feature_group_sizes,\n",
        "    n_iter=200\n",
        ");"
      ]
    },
    {
      "cell_type": "code",
      "execution_count": 23,
      "metadata": {
        "id": "R8DYKSSWVe77"
      },
      "outputs": [],
      "source": [
        "from myfm import MyFMOrderedProbit"
      ]
    },
    {
      "cell_type": "code",
      "execution_count": 24,
      "metadata": {
        "id": "2LyME_XWXOga",
        "colab": {
          "base_uri": "https://localhost:8080/"
        },
        "outputId": "dd8a8027-2d02-49a4-f485-e74a507c9392"
      },
      "outputs": [
        {
          "output_type": "stream",
          "name": "stderr",
          "text": [
            "w0 = 0.22, cutpoint = ['-2.701', '-1.507', '-0.022', '1.698'] : 100%|██████████| 200/200 [01:13<00:00,  2.73it/s]\n"
          ]
        }
      ],
      "source": [
        "fm_order = myfm.MyFMOrderedProbit(rank=32)\n",
        "#assert false\n",
        "fm_order.fit(X_date_train, df_train.rating.values, X_rel=train_blocks,group_shapes=feature_group_sizes,n_iter=200);\n"
      ]
    },
    {
      "cell_type": "code",
      "source": [
        "from matplotlib import pyplot as plt"
      ],
      "metadata": {
        "id": "AG5JCWTlo--P"
      },
      "execution_count": 25,
      "outputs": []
    },
    {
      "cell_type": "code",
      "source": [
        "assert fm_order.history_ is not None"
      ],
      "metadata": {
        "id": "0DiHBQGLo0o_"
      },
      "execution_count": 26,
      "outputs": []
    },
    {
      "cell_type": "code",
      "source": [
        "cutpoints = fm_order.cutpoint_samples - fm_order.w0_samples[:, None]"
      ],
      "metadata": {
        "id": "_Wmvgnvxm0Kz"
      },
      "execution_count": 27,
      "outputs": []
    },
    {
      "cell_type": "code",
      "execution_count": 28,
      "metadata": {
        "id": "XFvOTvEQXMuX"
      },
      "outputs": [],
      "source": [
        "test_prediction_regressor = fm.predict(X_date_test, test_blocks)"
      ]
    },
    {
      "cell_type": "code",
      "execution_count": 29,
      "metadata": {
        "id": "yJJrpQXnXQhB"
      },
      "outputs": [],
      "source": [
        "test_prediction_oprobit = fm_order.predict_proba(X_date_test, test_blocks)"
      ]
    },
    {
      "cell_type": "code",
      "execution_count": 30,
      "metadata": {
        "id": "8Zryr5e_XR_K"
      },
      "outputs": [],
      "source": [
        "test_prediction_oprobit_mean = test_prediction_oprobit.dot(np.arange(5))"
      ]
    },
    {
      "cell_type": "code",
      "execution_count": 31,
      "metadata": {
        "id": "rrEo4dJSXT4R",
        "colab": {
          "base_uri": "https://localhost:8080/"
        },
        "outputId": "512461fb-1a93-45e1-cb23-d773b10b74a0"
      },
      "outputs": [
        {
          "output_type": "execute_result",
          "data": {
            "text/plain": [
              "0.8761102791699252"
            ]
          },
          "metadata": {},
          "execution_count": 31
        }
      ],
      "source": [
        "# RMSE for regressor\n",
        "# you can clip the value with\n",
        "test_prediction_regressor[test_prediction_regressor >=4] = 4\n",
        "test_prediction_regressor[test_prediction_regressor <=0] = 0\n",
        "(\n",
        "    (df_test.rating.values - test_prediction_regressor)**2\n",
        ").mean() ** 0.5"
      ]
    },
    {
      "cell_type": "code",
      "execution_count": 32,
      "metadata": {
        "id": "nuhcn9c9XVpb",
        "colab": {
          "base_uri": "https://localhost:8080/"
        },
        "outputId": "8921fa4c-0484-45bc-bde5-57119de319f9"
      },
      "outputs": [
        {
          "output_type": "execute_result",
          "data": {
            "text/plain": [
              "0.8732009604109965"
            ]
          },
          "metadata": {},
          "execution_count": 32
        }
      ],
      "source": [
        "# RMSE for ordered probit regressor\n",
        "((df_test.rating.values - test_prediction_oprobit_mean)**2\n",
        ").mean() ** 0.5"
      ]
    },
    {
      "cell_type": "code",
      "execution_count": 33,
      "metadata": {
        "id": "ybH1KtRgXXMo"
      },
      "outputs": [],
      "source": [
        "from sklearn.metrics import mean_absolute_error as mae"
      ]
    },
    {
      "cell_type": "code",
      "execution_count": 34,
      "metadata": {
        "id": "N8kWIA_kXYgI",
        "colab": {
          "base_uri": "https://localhost:8080/"
        },
        "outputId": "b22b8ea2-0ce0-4085-fe2e-d87a2340ae16"
      },
      "outputs": [
        {
          "output_type": "stream",
          "name": "stdout",
          "text": [
            "Mean absolute error : 0.6828003513144596\n"
          ]
        }
      ],
      "source": [
        "error = mae(df_test.rating.values, test_prediction_regressor)\n",
        "print(\"Mean absolute error : \" + str(error))"
      ]
    },
    {
      "cell_type": "code",
      "execution_count": 35,
      "metadata": {
        "id": "7-ADLHv4XZ9E",
        "colab": {
          "base_uri": "https://localhost:8080/"
        },
        "outputId": "8101e9e9-2d50-47bc-9271-1ba62160f388"
      },
      "outputs": [
        {
          "output_type": "stream",
          "name": "stdout",
          "text": [
            "Mean absolute error : 0.682544958124383\n"
          ]
        }
      ],
      "source": [
        "error1 = mae(df_test.rating.values,test_prediction_oprobit_mean)\n",
        "print(\"Mean absolute error : \" + str(error1))"
      ]
    },
    {
      "cell_type": "code",
      "source": [],
      "metadata": {
        "id": "58AWDgz1BC7k"
      },
      "execution_count": null,
      "outputs": []
    },
    {
      "cell_type": "code",
      "source": [
        "df['OPRFM_score'] =  test_prediction_oprobit_mean"
      ],
      "metadata": {
        "id": "03gAKbQQGuRP"
      },
      "execution_count": 106,
      "outputs": []
    },
    {
      "cell_type": "code",
      "source": [
        "columns = ['OPRFM_score', 'score']\n",
        "df = pd.DataFrame(columns=columns)"
      ],
      "metadata": {
        "id": "XRfS7pHIA9MZ"
      },
      "execution_count": 105,
      "outputs": []
    },
    {
      "cell_type": "code",
      "source": [
        "print(len(df['OPRFM_score']))"
      ],
      "metadata": {
        "colab": {
          "base_uri": "https://localhost:8080/"
        },
        "id": "BwrDydiLGSTy",
        "outputId": "00183e75-7fb6-4d43-d713-3455886547f4"
      },
      "execution_count": 107,
      "outputs": [
        {
          "output_type": "stream",
          "name": "stdout",
          "text": [
            "10000\n"
          ]
        }
      ]
    },
    {
      "cell_type": "code",
      "source": [
        "df = df.sort_values(by='OPRFM_score', ascending=False)"
      ],
      "metadata": {
        "id": "H4KdlPIaBfqd"
      },
      "execution_count": 108,
      "outputs": []
    },
    {
      "cell_type": "code",
      "source": [
        "df.head(1)"
      ],
      "metadata": {
        "colab": {
          "base_uri": "https://localhost:8080/",
          "height": 80
        },
        "id": "LJuaKD_a_J7v",
        "outputId": "3fa96177-fb31-4653-e88a-6e0eab304263"
      },
      "execution_count": 109,
      "outputs": [
        {
          "output_type": "execute_result",
          "data": {
            "text/plain": [
              "      OPRFM_score score\n",
              "7052     3.999029   NaN"
            ],
            "text/html": [
              "\n",
              "  <div id=\"df-2a13c6c2-58d9-4d67-8c22-f1ca0d9a2f60\" class=\"colab-df-container\">\n",
              "    <div>\n",
              "<style scoped>\n",
              "    .dataframe tbody tr th:only-of-type {\n",
              "        vertical-align: middle;\n",
              "    }\n",
              "\n",
              "    .dataframe tbody tr th {\n",
              "        vertical-align: top;\n",
              "    }\n",
              "\n",
              "    .dataframe thead th {\n",
              "        text-align: right;\n",
              "    }\n",
              "</style>\n",
              "<table border=\"1\" class=\"dataframe\">\n",
              "  <thead>\n",
              "    <tr style=\"text-align: right;\">\n",
              "      <th></th>\n",
              "      <th>OPRFM_score</th>\n",
              "      <th>score</th>\n",
              "    </tr>\n",
              "  </thead>\n",
              "  <tbody>\n",
              "    <tr>\n",
              "      <th>7052</th>\n",
              "      <td>3.999029</td>\n",
              "      <td>NaN</td>\n",
              "    </tr>\n",
              "  </tbody>\n",
              "</table>\n",
              "</div>\n",
              "    <div class=\"colab-df-buttons\">\n",
              "\n",
              "  <div class=\"colab-df-container\">\n",
              "    <button class=\"colab-df-convert\" onclick=\"convertToInteractive('df-2a13c6c2-58d9-4d67-8c22-f1ca0d9a2f60')\"\n",
              "            title=\"Convert this dataframe to an interactive table.\"\n",
              "            style=\"display:none;\">\n",
              "\n",
              "  <svg xmlns=\"http://www.w3.org/2000/svg\" height=\"24px\" viewBox=\"0 -960 960 960\">\n",
              "    <path d=\"M120-120v-720h720v720H120Zm60-500h600v-160H180v160Zm220 220h160v-160H400v160Zm0 220h160v-160H400v160ZM180-400h160v-160H180v160Zm440 0h160v-160H620v160ZM180-180h160v-160H180v160Zm440 0h160v-160H620v160Z\"/>\n",
              "  </svg>\n",
              "    </button>\n",
              "\n",
              "  <style>\n",
              "    .colab-df-container {\n",
              "      display:flex;\n",
              "      gap: 12px;\n",
              "    }\n",
              "\n",
              "    .colab-df-convert {\n",
              "      background-color: #E8F0FE;\n",
              "      border: none;\n",
              "      border-radius: 50%;\n",
              "      cursor: pointer;\n",
              "      display: none;\n",
              "      fill: #1967D2;\n",
              "      height: 32px;\n",
              "      padding: 0 0 0 0;\n",
              "      width: 32px;\n",
              "    }\n",
              "\n",
              "    .colab-df-convert:hover {\n",
              "      background-color: #E2EBFA;\n",
              "      box-shadow: 0px 1px 2px rgba(60, 64, 67, 0.3), 0px 1px 3px 1px rgba(60, 64, 67, 0.15);\n",
              "      fill: #174EA6;\n",
              "    }\n",
              "\n",
              "    .colab-df-buttons div {\n",
              "      margin-bottom: 4px;\n",
              "    }\n",
              "\n",
              "    [theme=dark] .colab-df-convert {\n",
              "      background-color: #3B4455;\n",
              "      fill: #D2E3FC;\n",
              "    }\n",
              "\n",
              "    [theme=dark] .colab-df-convert:hover {\n",
              "      background-color: #434B5C;\n",
              "      box-shadow: 0px 1px 3px 1px rgba(0, 0, 0, 0.15);\n",
              "      filter: drop-shadow(0px 1px 2px rgba(0, 0, 0, 0.3));\n",
              "      fill: #FFFFFF;\n",
              "    }\n",
              "  </style>\n",
              "\n",
              "    <script>\n",
              "      const buttonEl =\n",
              "        document.querySelector('#df-2a13c6c2-58d9-4d67-8c22-f1ca0d9a2f60 button.colab-df-convert');\n",
              "      buttonEl.style.display =\n",
              "        google.colab.kernel.accessAllowed ? 'block' : 'none';\n",
              "\n",
              "      async function convertToInteractive(key) {\n",
              "        const element = document.querySelector('#df-2a13c6c2-58d9-4d67-8c22-f1ca0d9a2f60');\n",
              "        const dataTable =\n",
              "          await google.colab.kernel.invokeFunction('convertToInteractive',\n",
              "                                                    [key], {});\n",
              "        if (!dataTable) return;\n",
              "\n",
              "        const docLinkHtml = 'Like what you see? Visit the ' +\n",
              "          '<a target=\"_blank\" href=https://colab.research.google.com/notebooks/data_table.ipynb>data table notebook</a>'\n",
              "          + ' to learn more about interactive tables.';\n",
              "        element.innerHTML = '';\n",
              "        dataTable['output_type'] = 'display_data';\n",
              "        await google.colab.output.renderOutput(dataTable, element);\n",
              "        const docLink = document.createElement('div');\n",
              "        docLink.innerHTML = docLinkHtml;\n",
              "        element.appendChild(docLink);\n",
              "      }\n",
              "    </script>\n",
              "  </div>\n",
              "\n",
              "\n",
              "    </div>\n",
              "  </div>\n"
            ]
          },
          "metadata": {},
          "execution_count": 109
        }
      ]
    },
    {
      "cell_type": "code",
      "source": [
        "# Extract true relevance scores and convert them to a 2D array\n",
        "true_relevance = df['OPRFM_score'].values.reshape(1, -1)"
      ],
      "metadata": {
        "id": "fQiFn-KBJqUy"
      },
      "execution_count": 110,
      "outputs": []
    },
    {
      "cell_type": "code",
      "source": [
        "from sklearn.metrics import ndcg_score\n",
        "ndcg_5 = ndcg_score(true_relevance, np.ones_like(true_relevance) * 10)"
      ],
      "metadata": {
        "id": "fbxwTfqUJqP6"
      },
      "execution_count": 111,
      "outputs": []
    },
    {
      "cell_type": "code",
      "source": [
        "print(f\"NDCG@5: {ndcg_5}\")"
      ],
      "metadata": {
        "colab": {
          "base_uri": "https://localhost:8080/"
        },
        "id": "9GZY-c0tJqLX",
        "outputId": "2b94c5e8-4c69-45f9-8892-7d02d77f09fd"
      },
      "execution_count": 112,
      "outputs": [
        {
          "output_type": "stream",
          "name": "stdout",
          "text": [
            "NDCG@5: 0.9633293941872825\n"
          ]
        }
      ]
    },
    {
      "cell_type": "code",
      "source": [],
      "metadata": {
        "id": "LrjITXdo_-uQ"
      },
      "execution_count": null,
      "outputs": []
    },
    {
      "cell_type": "code",
      "source": [],
      "metadata": {
        "id": "O--KDTmc_-pE"
      },
      "execution_count": null,
      "outputs": []
    },
    {
      "cell_type": "code",
      "source": [
        "df.head(1)"
      ],
      "metadata": {
        "colab": {
          "base_uri": "https://localhost:8080/",
          "height": 80
        },
        "id": "FXiAcViv_-mU",
        "outputId": "7cd749a0-6c38-4657-9295-bc28a5bf1946"
      },
      "execution_count": 115,
      "outputs": [
        {
          "output_type": "execute_result",
          "data": {
            "text/plain": [
              "      OPRFM_score     score\n",
              "7052     3.999029  2.957237"
            ],
            "text/html": [
              "\n",
              "  <div id=\"df-0ddd40c9-c7d7-4453-82e9-33d60a2ee2ea\" class=\"colab-df-container\">\n",
              "    <div>\n",
              "<style scoped>\n",
              "    .dataframe tbody tr th:only-of-type {\n",
              "        vertical-align: middle;\n",
              "    }\n",
              "\n",
              "    .dataframe tbody tr th {\n",
              "        vertical-align: top;\n",
              "    }\n",
              "\n",
              "    .dataframe thead th {\n",
              "        text-align: right;\n",
              "    }\n",
              "</style>\n",
              "<table border=\"1\" class=\"dataframe\">\n",
              "  <thead>\n",
              "    <tr style=\"text-align: right;\">\n",
              "      <th></th>\n",
              "      <th>OPRFM_score</th>\n",
              "      <th>score</th>\n",
              "    </tr>\n",
              "  </thead>\n",
              "  <tbody>\n",
              "    <tr>\n",
              "      <th>7052</th>\n",
              "      <td>3.999029</td>\n",
              "      <td>2.957237</td>\n",
              "    </tr>\n",
              "  </tbody>\n",
              "</table>\n",
              "</div>\n",
              "    <div class=\"colab-df-buttons\">\n",
              "\n",
              "  <div class=\"colab-df-container\">\n",
              "    <button class=\"colab-df-convert\" onclick=\"convertToInteractive('df-0ddd40c9-c7d7-4453-82e9-33d60a2ee2ea')\"\n",
              "            title=\"Convert this dataframe to an interactive table.\"\n",
              "            style=\"display:none;\">\n",
              "\n",
              "  <svg xmlns=\"http://www.w3.org/2000/svg\" height=\"24px\" viewBox=\"0 -960 960 960\">\n",
              "    <path d=\"M120-120v-720h720v720H120Zm60-500h600v-160H180v160Zm220 220h160v-160H400v160Zm0 220h160v-160H400v160ZM180-400h160v-160H180v160Zm440 0h160v-160H620v160ZM180-180h160v-160H180v160Zm440 0h160v-160H620v160Z\"/>\n",
              "  </svg>\n",
              "    </button>\n",
              "\n",
              "  <style>\n",
              "    .colab-df-container {\n",
              "      display:flex;\n",
              "      gap: 12px;\n",
              "    }\n",
              "\n",
              "    .colab-df-convert {\n",
              "      background-color: #E8F0FE;\n",
              "      border: none;\n",
              "      border-radius: 50%;\n",
              "      cursor: pointer;\n",
              "      display: none;\n",
              "      fill: #1967D2;\n",
              "      height: 32px;\n",
              "      padding: 0 0 0 0;\n",
              "      width: 32px;\n",
              "    }\n",
              "\n",
              "    .colab-df-convert:hover {\n",
              "      background-color: #E2EBFA;\n",
              "      box-shadow: 0px 1px 2px rgba(60, 64, 67, 0.3), 0px 1px 3px 1px rgba(60, 64, 67, 0.15);\n",
              "      fill: #174EA6;\n",
              "    }\n",
              "\n",
              "    .colab-df-buttons div {\n",
              "      margin-bottom: 4px;\n",
              "    }\n",
              "\n",
              "    [theme=dark] .colab-df-convert {\n",
              "      background-color: #3B4455;\n",
              "      fill: #D2E3FC;\n",
              "    }\n",
              "\n",
              "    [theme=dark] .colab-df-convert:hover {\n",
              "      background-color: #434B5C;\n",
              "      box-shadow: 0px 1px 3px 1px rgba(0, 0, 0, 0.15);\n",
              "      filter: drop-shadow(0px 1px 2px rgba(0, 0, 0, 0.3));\n",
              "      fill: #FFFFFF;\n",
              "    }\n",
              "  </style>\n",
              "\n",
              "    <script>\n",
              "      const buttonEl =\n",
              "        document.querySelector('#df-0ddd40c9-c7d7-4453-82e9-33d60a2ee2ea button.colab-df-convert');\n",
              "      buttonEl.style.display =\n",
              "        google.colab.kernel.accessAllowed ? 'block' : 'none';\n",
              "\n",
              "      async function convertToInteractive(key) {\n",
              "        const element = document.querySelector('#df-0ddd40c9-c7d7-4453-82e9-33d60a2ee2ea');\n",
              "        const dataTable =\n",
              "          await google.colab.kernel.invokeFunction('convertToInteractive',\n",
              "                                                    [key], {});\n",
              "        if (!dataTable) return;\n",
              "\n",
              "        const docLinkHtml = 'Like what you see? Visit the ' +\n",
              "          '<a target=\"_blank\" href=https://colab.research.google.com/notebooks/data_table.ipynb>data table notebook</a>'\n",
              "          + ' to learn more about interactive tables.';\n",
              "        element.innerHTML = '';\n",
              "        dataTable['output_type'] = 'display_data';\n",
              "        await google.colab.output.renderOutput(dataTable, element);\n",
              "        const docLink = document.createElement('div');\n",
              "        docLink.innerHTML = docLinkHtml;\n",
              "        element.appendChild(docLink);\n",
              "      }\n",
              "    </script>\n",
              "  </div>\n",
              "\n",
              "\n",
              "    </div>\n",
              "  </div>\n"
            ]
          },
          "metadata": {},
          "execution_count": 115
        }
      ]
    },
    {
      "cell_type": "code",
      "source": [
        "from sklearn.metrics import precision_score"
      ],
      "metadata": {
        "id": "j6fO4GUYb_Eo"
      },
      "execution_count": 101,
      "outputs": []
    },
    {
      "cell_type": "code",
      "source": [
        "df['score'] =  test_prediction_oprobit_mean"
      ],
      "metadata": {
        "id": "VYrEN28ZL247"
      },
      "execution_count": 114,
      "outputs": []
    },
    {
      "cell_type": "code",
      "source": [
        "test_prediction_oprobit_mean"
      ],
      "metadata": {
        "colab": {
          "base_uri": "https://localhost:8080/"
        },
        "id": "ShicyET3LwY-",
        "outputId": "a21072f1-8b71-424d-bab6-47fd1ae408d5"
      },
      "execution_count": 104,
      "outputs": [
        {
          "output_type": "execute_result",
          "data": {
            "text/plain": [
              "array([2.95723707, 3.29641398, 1.11271785, ..., 2.01156546, 3.02706779,\n",
              "       3.38087984])"
            ]
          },
          "metadata": {},
          "execution_count": 104
        }
      ]
    },
    {
      "cell_type": "code",
      "source": [
        "precision_binary = precision_score(df_test.rating.values, test_prediction_oprobit_mean)"
      ],
      "metadata": {
        "colab": {
          "base_uri": "https://localhost:8080/",
          "height": 330
        },
        "id": "ELxINvM0LpmE",
        "outputId": "1cc4858c-4fda-4ca3-ca48-5e5d3cad68f5"
      },
      "execution_count": 102,
      "outputs": [
        {
          "output_type": "error",
          "ename": "ValueError",
          "evalue": "ignored",
          "traceback": [
            "\u001b[0;31m---------------------------------------------------------------------------\u001b[0m",
            "\u001b[0;31mValueError\u001b[0m                                Traceback (most recent call last)",
            "\u001b[0;32m<ipython-input-102-d4c5355f03e1>\u001b[0m in \u001b[0;36m<cell line: 1>\u001b[0;34m()\u001b[0m\n\u001b[0;32m----> 1\u001b[0;31m \u001b[0mprecision_binary\u001b[0m \u001b[0;34m=\u001b[0m \u001b[0mprecision_score\u001b[0m\u001b[0;34m(\u001b[0m\u001b[0mdf_test\u001b[0m\u001b[0;34m.\u001b[0m\u001b[0mrating\u001b[0m\u001b[0;34m.\u001b[0m\u001b[0mvalues\u001b[0m\u001b[0;34m,\u001b[0m \u001b[0mtest_prediction_oprobit_mean\u001b[0m\u001b[0;34m)\u001b[0m\u001b[0;34m\u001b[0m\u001b[0;34m\u001b[0m\u001b[0m\n\u001b[0m",
            "\u001b[0;32m/usr/local/lib/python3.10/dist-packages/sklearn/metrics/_classification.py\u001b[0m in \u001b[0;36mprecision_score\u001b[0;34m(y_true, y_pred, labels, pos_label, average, sample_weight, zero_division)\u001b[0m\n\u001b[1;32m   1952\u001b[0m     \u001b[0marray\u001b[0m\u001b[0;34m(\u001b[0m\u001b[0;34m[\u001b[0m\u001b[0;36m0.5\u001b[0m\u001b[0;34m,\u001b[0m \u001b[0;36m1.\u001b[0m \u001b[0;34m,\u001b[0m \u001b[0;36m1.\u001b[0m \u001b[0;34m]\u001b[0m\u001b[0;34m)\u001b[0m\u001b[0;34m\u001b[0m\u001b[0;34m\u001b[0m\u001b[0m\n\u001b[1;32m   1953\u001b[0m     \"\"\"\n\u001b[0;32m-> 1954\u001b[0;31m     p, _, _, _ = precision_recall_fscore_support(\n\u001b[0m\u001b[1;32m   1955\u001b[0m         \u001b[0my_true\u001b[0m\u001b[0;34m,\u001b[0m\u001b[0;34m\u001b[0m\u001b[0;34m\u001b[0m\u001b[0m\n\u001b[1;32m   1956\u001b[0m         \u001b[0my_pred\u001b[0m\u001b[0;34m,\u001b[0m\u001b[0;34m\u001b[0m\u001b[0;34m\u001b[0m\u001b[0m\n",
            "\u001b[0;32m/usr/local/lib/python3.10/dist-packages/sklearn/metrics/_classification.py\u001b[0m in \u001b[0;36mprecision_recall_fscore_support\u001b[0;34m(y_true, y_pred, beta, labels, pos_label, average, warn_for, sample_weight, zero_division)\u001b[0m\n\u001b[1;32m   1571\u001b[0m     \u001b[0;32mif\u001b[0m \u001b[0mbeta\u001b[0m \u001b[0;34m<\u001b[0m \u001b[0;36m0\u001b[0m\u001b[0;34m:\u001b[0m\u001b[0;34m\u001b[0m\u001b[0;34m\u001b[0m\u001b[0m\n\u001b[1;32m   1572\u001b[0m         \u001b[0;32mraise\u001b[0m \u001b[0mValueError\u001b[0m\u001b[0;34m(\u001b[0m\u001b[0;34m\"beta should be >=0 in the F-beta score\"\u001b[0m\u001b[0;34m)\u001b[0m\u001b[0;34m\u001b[0m\u001b[0;34m\u001b[0m\u001b[0m\n\u001b[0;32m-> 1573\u001b[0;31m     \u001b[0mlabels\u001b[0m \u001b[0;34m=\u001b[0m \u001b[0m_check_set_wise_labels\u001b[0m\u001b[0;34m(\u001b[0m\u001b[0my_true\u001b[0m\u001b[0;34m,\u001b[0m \u001b[0my_pred\u001b[0m\u001b[0;34m,\u001b[0m \u001b[0maverage\u001b[0m\u001b[0;34m,\u001b[0m \u001b[0mlabels\u001b[0m\u001b[0;34m,\u001b[0m \u001b[0mpos_label\u001b[0m\u001b[0;34m)\u001b[0m\u001b[0;34m\u001b[0m\u001b[0;34m\u001b[0m\u001b[0m\n\u001b[0m\u001b[1;32m   1574\u001b[0m \u001b[0;34m\u001b[0m\u001b[0m\n\u001b[1;32m   1575\u001b[0m     \u001b[0;31m# Calculate tp_sum, pred_sum, true_sum ###\u001b[0m\u001b[0;34m\u001b[0m\u001b[0;34m\u001b[0m\u001b[0m\n",
            "\u001b[0;32m/usr/local/lib/python3.10/dist-packages/sklearn/metrics/_classification.py\u001b[0m in \u001b[0;36m_check_set_wise_labels\u001b[0;34m(y_true, y_pred, average, labels, pos_label)\u001b[0m\n\u001b[1;32m   1372\u001b[0m         \u001b[0;32mraise\u001b[0m \u001b[0mValueError\u001b[0m\u001b[0;34m(\u001b[0m\u001b[0;34m\"average has to be one of \"\u001b[0m \u001b[0;34m+\u001b[0m \u001b[0mstr\u001b[0m\u001b[0;34m(\u001b[0m\u001b[0maverage_options\u001b[0m\u001b[0;34m)\u001b[0m\u001b[0;34m)\u001b[0m\u001b[0;34m\u001b[0m\u001b[0;34m\u001b[0m\u001b[0m\n\u001b[1;32m   1373\u001b[0m \u001b[0;34m\u001b[0m\u001b[0m\n\u001b[0;32m-> 1374\u001b[0;31m     \u001b[0my_type\u001b[0m\u001b[0;34m,\u001b[0m \u001b[0my_true\u001b[0m\u001b[0;34m,\u001b[0m \u001b[0my_pred\u001b[0m \u001b[0;34m=\u001b[0m \u001b[0m_check_targets\u001b[0m\u001b[0;34m(\u001b[0m\u001b[0my_true\u001b[0m\u001b[0;34m,\u001b[0m \u001b[0my_pred\u001b[0m\u001b[0;34m)\u001b[0m\u001b[0;34m\u001b[0m\u001b[0;34m\u001b[0m\u001b[0m\n\u001b[0m\u001b[1;32m   1375\u001b[0m     \u001b[0;31m# Convert to Python primitive type to avoid NumPy type / Python str\u001b[0m\u001b[0;34m\u001b[0m\u001b[0;34m\u001b[0m\u001b[0m\n\u001b[1;32m   1376\u001b[0m     \u001b[0;31m# comparison. See https://github.com/numpy/numpy/issues/6784\u001b[0m\u001b[0;34m\u001b[0m\u001b[0;34m\u001b[0m\u001b[0m\n",
            "\u001b[0;32m/usr/local/lib/python3.10/dist-packages/sklearn/metrics/_classification.py\u001b[0m in \u001b[0;36m_check_targets\u001b[0;34m(y_true, y_pred)\u001b[0m\n\u001b[1;32m     93\u001b[0m \u001b[0;34m\u001b[0m\u001b[0m\n\u001b[1;32m     94\u001b[0m     \u001b[0;32mif\u001b[0m \u001b[0mlen\u001b[0m\u001b[0;34m(\u001b[0m\u001b[0my_type\u001b[0m\u001b[0;34m)\u001b[0m \u001b[0;34m>\u001b[0m \u001b[0;36m1\u001b[0m\u001b[0;34m:\u001b[0m\u001b[0;34m\u001b[0m\u001b[0;34m\u001b[0m\u001b[0m\n\u001b[0;32m---> 95\u001b[0;31m         raise ValueError(\n\u001b[0m\u001b[1;32m     96\u001b[0m             \"Classification metrics can't handle a mix of {0} and {1} targets\".format(\n\u001b[1;32m     97\u001b[0m                 \u001b[0mtype_true\u001b[0m\u001b[0;34m,\u001b[0m \u001b[0mtype_pred\u001b[0m\u001b[0;34m\u001b[0m\u001b[0;34m\u001b[0m\u001b[0m\n",
            "\u001b[0;31mValueError\u001b[0m: Classification metrics can't handle a mix of multiclass and continuous targets"
          ]
        }
      ]
    },
    {
      "cell_type": "code",
      "source": [
        "recall_multiclass = recall_score(true_labels_multiclass, predicted_labels_multiclass)"
      ],
      "metadata": {
        "id": "WV6KaKzKLNUH"
      },
      "execution_count": null,
      "outputs": []
    },
    {
      "cell_type": "code",
      "source": [
        "df_test['rating'] = df_test['rating'].astype(int)\n",
        "df['score'] = df['score'].astype(int)"
      ],
      "metadata": {
        "id": "MAXJQGdiMno4"
      },
      "execution_count": 120,
      "outputs": []
    },
    {
      "cell_type": "markdown",
      "source": [
        "`None`, 'micro', 'macro', 'weighted'"
      ],
      "metadata": {
        "id": "1QJl9_DYObyq"
      }
    },
    {
      "cell_type": "code",
      "source": [
        "# Sort predictions in descending order\n",
        "sorted_indices = np.argsort(df['score'])[::-1]"
      ],
      "metadata": {
        "id": "op9HSLDSO3Qv"
      },
      "execution_count": 142,
      "outputs": []
    },
    {
      "cell_type": "code",
      "source": [
        "# Select the top 50 instances\n",
        "top_10_indices = sorted_indices[:10]"
      ],
      "metadata": {
        "id": "5xd0WCy-O3N8"
      },
      "execution_count": 143,
      "outputs": []
    },
    {
      "cell_type": "code",
      "source": [
        "threshold = 0.1\n",
        "binary_predictions = (df['score'] >= threshold).astype(int)"
      ],
      "metadata": {
        "id": "Fx6Ks-PIO3Lg"
      },
      "execution_count": 144,
      "outputs": []
    },
    {
      "cell_type": "code",
      "source": [
        "recall_at_10 = recall_score(df_test['rating'][top_10_indices], binary_predictions[top_10_indices], average='macro')"
      ],
      "metadata": {
        "colab": {
          "base_uri": "https://localhost:8080/"
        },
        "id": "8IM7a7PEPRcL",
        "outputId": "46f73ba1-c44b-4065-995b-db4713ffe589"
      },
      "execution_count": 145,
      "outputs": [
        {
          "output_type": "stream",
          "name": "stderr",
          "text": [
            "/usr/local/lib/python3.10/dist-packages/sklearn/metrics/_classification.py:1344: UndefinedMetricWarning: Recall is ill-defined and being set to 0.0 in labels with no true samples. Use `zero_division` parameter to control this behavior.\n",
            "  _warn_prf(average, modifier, msg_start, len(result))\n"
          ]
        }
      ]
    },
    {
      "cell_type": "code",
      "source": [
        "print(f\"Recall at 50: {recall_at_50}\")"
      ],
      "metadata": {
        "colab": {
          "base_uri": "https://localhost:8080/"
        },
        "id": "kKStUCtVPsFn",
        "outputId": "81968e09-c937-49db-9dba-5accb318809d"
      },
      "execution_count": 146,
      "outputs": [
        {
          "output_type": "stream",
          "name": "stdout",
          "text": [
            "Recall at 50: 0.2\n"
          ]
        }
      ]
    },
    {
      "cell_type": "code",
      "source": [
        "recall = recall_score(df_test['rating'], df['score'], average='macro')"
      ],
      "metadata": {
        "id": "4mpnR6ZNBbxm"
      },
      "execution_count": 147,
      "outputs": []
    },
    {
      "cell_type": "code",
      "source": [
        "print(f\"Recall (Multiclass): {recall}\")"
      ],
      "metadata": {
        "colab": {
          "base_uri": "https://localhost:8080/"
        },
        "id": "fL9yq8afb_Bt",
        "outputId": "3ce84097-fe68-445a-e3e5-1d9a73ed62f3"
      },
      "execution_count": 148,
      "outputs": [
        {
          "output_type": "stream",
          "name": "stdout",
          "text": [
            "Recall (Multiclass): 0.34990998086020364\n"
          ]
        }
      ]
    },
    {
      "cell_type": "code",
      "source": [],
      "metadata": {
        "id": "xGRSMuARb--k"
      },
      "execution_count": null,
      "outputs": []
    },
    {
      "cell_type": "code",
      "source": [
        "trace = fm_order.get_hyper_trace()\n",
        "trace"
      ],
      "metadata": {
        "id": "37o0TOZZrAUa",
        "colab": {
          "base_uri": "https://localhost:8080/",
          "height": 443
        },
        "outputId": "6bdfd574-c042-48ba-d329-5903874bc7e4"
      },
      "execution_count": 149,
      "outputs": [
        {
          "output_type": "execute_result",
          "data": {
            "text/plain": [
              "     alpha   mu_w[0]   mu_w[1]   mu_w[2]   mu_w[3]   mu_w[4]  lambda_w[0]  \\\n",
              "0      1.0 -0.007633 -0.001478 -0.001717  0.002536  0.000485    67.553066   \n",
              "1      1.0 -0.010594  0.023800 -0.005062 -0.025832 -0.002481    21.478848   \n",
              "2      1.0 -0.017165  0.026188  0.002080 -0.036540 -0.002443    20.852909   \n",
              "3      1.0 -0.030222  0.044079  0.004132 -0.032080  0.003700    19.618253   \n",
              "4      1.0 -0.018089  0.014228 -0.000987 -0.035884  0.009898    14.807321   \n",
              "..     ...       ...       ...       ...       ...       ...          ...   \n",
              "195    1.0 -0.041243 -0.128989 -0.005056  0.154312  0.012136    47.532930   \n",
              "196    1.0 -0.027273 -0.165813 -0.020938  0.156557 -0.009241    32.824697   \n",
              "197    1.0 -0.026165 -0.137289 -0.023330  0.155964  0.006513    31.586017   \n",
              "198    1.0 -0.023884 -0.114897 -0.019235  0.149309 -0.007812    26.333205   \n",
              "199    1.0 -0.019521 -0.120341 -0.005644  0.149171 -0.011682    35.996052   \n",
              "\n",
              "     lambda_w[1]  lambda_w[2]  lambda_w[3]  ...  lambda_V[4,22]  \\\n",
              "0      78.066862    95.004255    87.351834  ...       92.594794   \n",
              "1      24.137651    86.978055    33.171831  ...       81.070348   \n",
              "2      14.591277    72.073723    19.908279  ...       71.430952   \n",
              "3      11.805303    69.264033    14.570896  ...       66.226558   \n",
              "4       9.180500    63.310193    11.581065  ...       58.585919   \n",
              "..           ...          ...          ...  ...             ...   \n",
              "195     4.279877    14.207488    26.854384  ...       20.088516   \n",
              "196     5.026351    13.884363    26.035079  ...       18.513014   \n",
              "197     4.378418    14.086052    27.031191  ...       18.310919   \n",
              "198     4.751807    14.575321    27.850976  ...       19.166336   \n",
              "199     4.193886    14.977685    29.337302  ...       18.954684   \n",
              "\n",
              "     lambda_V[4,23]  lambda_V[4,24]  lambda_V[4,25]  lambda_V[4,26]  \\\n",
              "0         97.398593      100.795294       96.843823       92.521665   \n",
              "1         81.377624       88.039530       83.315603       80.841539   \n",
              "2         66.382707       82.431310       76.431470       64.969485   \n",
              "3         59.237022       84.671063       70.868954       63.224695   \n",
              "4         56.483032       78.564375       63.893502       62.134237   \n",
              "..              ...             ...             ...             ...   \n",
              "195       14.206545       12.988864        8.013432       10.655567   \n",
              "196       13.608599       13.411114        8.637410       10.802476   \n",
              "197       13.038822       13.244032        8.384373       10.359201   \n",
              "198       13.462500       12.370921        8.960917       11.930524   \n",
              "199       13.653778       12.369688        8.308545       11.618733   \n",
              "\n",
              "     lambda_V[4,27]  lambda_V[4,28]  lambda_V[4,29]  lambda_V[4,30]  \\\n",
              "0         99.604394       86.017007       87.251586       85.764297   \n",
              "1         93.196331       87.277026       74.040301       79.294535   \n",
              "2         81.634559       75.052791       66.083224       72.545279   \n",
              "3         74.160657       68.165981       57.544246       65.258426   \n",
              "4         64.937022       61.521969       52.133188       52.833241   \n",
              "..              ...             ...             ...             ...   \n",
              "195       21.349712       20.760111        8.891095       12.403496   \n",
              "196       21.225404       20.458539        9.316939       11.919052   \n",
              "197       22.328949       18.943751        9.372102       11.867518   \n",
              "198       23.325093       19.292970        8.992012       11.048194   \n",
              "199       20.232917       19.240301        8.593454       10.760788   \n",
              "\n",
              "     lambda_V[4,31]  \n",
              "0         95.891093  \n",
              "1         86.621223  \n",
              "2         74.018275  \n",
              "3         66.453174  \n",
              "4         64.254587  \n",
              "..              ...  \n",
              "195       24.628458  \n",
              "196       23.217332  \n",
              "197       23.844309  \n",
              "198       22.900611  \n",
              "199       21.588088  \n",
              "\n",
              "[200 rows x 331 columns]"
            ],
            "text/html": [
              "\n",
              "  <div id=\"df-7d4a8b73-a3e3-4c4d-bb7b-6806305ed958\" class=\"colab-df-container\">\n",
              "    <div>\n",
              "<style scoped>\n",
              "    .dataframe tbody tr th:only-of-type {\n",
              "        vertical-align: middle;\n",
              "    }\n",
              "\n",
              "    .dataframe tbody tr th {\n",
              "        vertical-align: top;\n",
              "    }\n",
              "\n",
              "    .dataframe thead th {\n",
              "        text-align: right;\n",
              "    }\n",
              "</style>\n",
              "<table border=\"1\" class=\"dataframe\">\n",
              "  <thead>\n",
              "    <tr style=\"text-align: right;\">\n",
              "      <th></th>\n",
              "      <th>alpha</th>\n",
              "      <th>mu_w[0]</th>\n",
              "      <th>mu_w[1]</th>\n",
              "      <th>mu_w[2]</th>\n",
              "      <th>mu_w[3]</th>\n",
              "      <th>mu_w[4]</th>\n",
              "      <th>lambda_w[0]</th>\n",
              "      <th>lambda_w[1]</th>\n",
              "      <th>lambda_w[2]</th>\n",
              "      <th>lambda_w[3]</th>\n",
              "      <th>...</th>\n",
              "      <th>lambda_V[4,22]</th>\n",
              "      <th>lambda_V[4,23]</th>\n",
              "      <th>lambda_V[4,24]</th>\n",
              "      <th>lambda_V[4,25]</th>\n",
              "      <th>lambda_V[4,26]</th>\n",
              "      <th>lambda_V[4,27]</th>\n",
              "      <th>lambda_V[4,28]</th>\n",
              "      <th>lambda_V[4,29]</th>\n",
              "      <th>lambda_V[4,30]</th>\n",
              "      <th>lambda_V[4,31]</th>\n",
              "    </tr>\n",
              "  </thead>\n",
              "  <tbody>\n",
              "    <tr>\n",
              "      <th>0</th>\n",
              "      <td>1.0</td>\n",
              "      <td>-0.007633</td>\n",
              "      <td>-0.001478</td>\n",
              "      <td>-0.001717</td>\n",
              "      <td>0.002536</td>\n",
              "      <td>0.000485</td>\n",
              "      <td>67.553066</td>\n",
              "      <td>78.066862</td>\n",
              "      <td>95.004255</td>\n",
              "      <td>87.351834</td>\n",
              "      <td>...</td>\n",
              "      <td>92.594794</td>\n",
              "      <td>97.398593</td>\n",
              "      <td>100.795294</td>\n",
              "      <td>96.843823</td>\n",
              "      <td>92.521665</td>\n",
              "      <td>99.604394</td>\n",
              "      <td>86.017007</td>\n",
              "      <td>87.251586</td>\n",
              "      <td>85.764297</td>\n",
              "      <td>95.891093</td>\n",
              "    </tr>\n",
              "    <tr>\n",
              "      <th>1</th>\n",
              "      <td>1.0</td>\n",
              "      <td>-0.010594</td>\n",
              "      <td>0.023800</td>\n",
              "      <td>-0.005062</td>\n",
              "      <td>-0.025832</td>\n",
              "      <td>-0.002481</td>\n",
              "      <td>21.478848</td>\n",
              "      <td>24.137651</td>\n",
              "      <td>86.978055</td>\n",
              "      <td>33.171831</td>\n",
              "      <td>...</td>\n",
              "      <td>81.070348</td>\n",
              "      <td>81.377624</td>\n",
              "      <td>88.039530</td>\n",
              "      <td>83.315603</td>\n",
              "      <td>80.841539</td>\n",
              "      <td>93.196331</td>\n",
              "      <td>87.277026</td>\n",
              "      <td>74.040301</td>\n",
              "      <td>79.294535</td>\n",
              "      <td>86.621223</td>\n",
              "    </tr>\n",
              "    <tr>\n",
              "      <th>2</th>\n",
              "      <td>1.0</td>\n",
              "      <td>-0.017165</td>\n",
              "      <td>0.026188</td>\n",
              "      <td>0.002080</td>\n",
              "      <td>-0.036540</td>\n",
              "      <td>-0.002443</td>\n",
              "      <td>20.852909</td>\n",
              "      <td>14.591277</td>\n",
              "      <td>72.073723</td>\n",
              "      <td>19.908279</td>\n",
              "      <td>...</td>\n",
              "      <td>71.430952</td>\n",
              "      <td>66.382707</td>\n",
              "      <td>82.431310</td>\n",
              "      <td>76.431470</td>\n",
              "      <td>64.969485</td>\n",
              "      <td>81.634559</td>\n",
              "      <td>75.052791</td>\n",
              "      <td>66.083224</td>\n",
              "      <td>72.545279</td>\n",
              "      <td>74.018275</td>\n",
              "    </tr>\n",
              "    <tr>\n",
              "      <th>3</th>\n",
              "      <td>1.0</td>\n",
              "      <td>-0.030222</td>\n",
              "      <td>0.044079</td>\n",
              "      <td>0.004132</td>\n",
              "      <td>-0.032080</td>\n",
              "      <td>0.003700</td>\n",
              "      <td>19.618253</td>\n",
              "      <td>11.805303</td>\n",
              "      <td>69.264033</td>\n",
              "      <td>14.570896</td>\n",
              "      <td>...</td>\n",
              "      <td>66.226558</td>\n",
              "      <td>59.237022</td>\n",
              "      <td>84.671063</td>\n",
              "      <td>70.868954</td>\n",
              "      <td>63.224695</td>\n",
              "      <td>74.160657</td>\n",
              "      <td>68.165981</td>\n",
              "      <td>57.544246</td>\n",
              "      <td>65.258426</td>\n",
              "      <td>66.453174</td>\n",
              "    </tr>\n",
              "    <tr>\n",
              "      <th>4</th>\n",
              "      <td>1.0</td>\n",
              "      <td>-0.018089</td>\n",
              "      <td>0.014228</td>\n",
              "      <td>-0.000987</td>\n",
              "      <td>-0.035884</td>\n",
              "      <td>0.009898</td>\n",
              "      <td>14.807321</td>\n",
              "      <td>9.180500</td>\n",
              "      <td>63.310193</td>\n",
              "      <td>11.581065</td>\n",
              "      <td>...</td>\n",
              "      <td>58.585919</td>\n",
              "      <td>56.483032</td>\n",
              "      <td>78.564375</td>\n",
              "      <td>63.893502</td>\n",
              "      <td>62.134237</td>\n",
              "      <td>64.937022</td>\n",
              "      <td>61.521969</td>\n",
              "      <td>52.133188</td>\n",
              "      <td>52.833241</td>\n",
              "      <td>64.254587</td>\n",
              "    </tr>\n",
              "    <tr>\n",
              "      <th>...</th>\n",
              "      <td>...</td>\n",
              "      <td>...</td>\n",
              "      <td>...</td>\n",
              "      <td>...</td>\n",
              "      <td>...</td>\n",
              "      <td>...</td>\n",
              "      <td>...</td>\n",
              "      <td>...</td>\n",
              "      <td>...</td>\n",
              "      <td>...</td>\n",
              "      <td>...</td>\n",
              "      <td>...</td>\n",
              "      <td>...</td>\n",
              "      <td>...</td>\n",
              "      <td>...</td>\n",
              "      <td>...</td>\n",
              "      <td>...</td>\n",
              "      <td>...</td>\n",
              "      <td>...</td>\n",
              "      <td>...</td>\n",
              "      <td>...</td>\n",
              "    </tr>\n",
              "    <tr>\n",
              "      <th>195</th>\n",
              "      <td>1.0</td>\n",
              "      <td>-0.041243</td>\n",
              "      <td>-0.128989</td>\n",
              "      <td>-0.005056</td>\n",
              "      <td>0.154312</td>\n",
              "      <td>0.012136</td>\n",
              "      <td>47.532930</td>\n",
              "      <td>4.279877</td>\n",
              "      <td>14.207488</td>\n",
              "      <td>26.854384</td>\n",
              "      <td>...</td>\n",
              "      <td>20.088516</td>\n",
              "      <td>14.206545</td>\n",
              "      <td>12.988864</td>\n",
              "      <td>8.013432</td>\n",
              "      <td>10.655567</td>\n",
              "      <td>21.349712</td>\n",
              "      <td>20.760111</td>\n",
              "      <td>8.891095</td>\n",
              "      <td>12.403496</td>\n",
              "      <td>24.628458</td>\n",
              "    </tr>\n",
              "    <tr>\n",
              "      <th>196</th>\n",
              "      <td>1.0</td>\n",
              "      <td>-0.027273</td>\n",
              "      <td>-0.165813</td>\n",
              "      <td>-0.020938</td>\n",
              "      <td>0.156557</td>\n",
              "      <td>-0.009241</td>\n",
              "      <td>32.824697</td>\n",
              "      <td>5.026351</td>\n",
              "      <td>13.884363</td>\n",
              "      <td>26.035079</td>\n",
              "      <td>...</td>\n",
              "      <td>18.513014</td>\n",
              "      <td>13.608599</td>\n",
              "      <td>13.411114</td>\n",
              "      <td>8.637410</td>\n",
              "      <td>10.802476</td>\n",
              "      <td>21.225404</td>\n",
              "      <td>20.458539</td>\n",
              "      <td>9.316939</td>\n",
              "      <td>11.919052</td>\n",
              "      <td>23.217332</td>\n",
              "    </tr>\n",
              "    <tr>\n",
              "      <th>197</th>\n",
              "      <td>1.0</td>\n",
              "      <td>-0.026165</td>\n",
              "      <td>-0.137289</td>\n",
              "      <td>-0.023330</td>\n",
              "      <td>0.155964</td>\n",
              "      <td>0.006513</td>\n",
              "      <td>31.586017</td>\n",
              "      <td>4.378418</td>\n",
              "      <td>14.086052</td>\n",
              "      <td>27.031191</td>\n",
              "      <td>...</td>\n",
              "      <td>18.310919</td>\n",
              "      <td>13.038822</td>\n",
              "      <td>13.244032</td>\n",
              "      <td>8.384373</td>\n",
              "      <td>10.359201</td>\n",
              "      <td>22.328949</td>\n",
              "      <td>18.943751</td>\n",
              "      <td>9.372102</td>\n",
              "      <td>11.867518</td>\n",
              "      <td>23.844309</td>\n",
              "    </tr>\n",
              "    <tr>\n",
              "      <th>198</th>\n",
              "      <td>1.0</td>\n",
              "      <td>-0.023884</td>\n",
              "      <td>-0.114897</td>\n",
              "      <td>-0.019235</td>\n",
              "      <td>0.149309</td>\n",
              "      <td>-0.007812</td>\n",
              "      <td>26.333205</td>\n",
              "      <td>4.751807</td>\n",
              "      <td>14.575321</td>\n",
              "      <td>27.850976</td>\n",
              "      <td>...</td>\n",
              "      <td>19.166336</td>\n",
              "      <td>13.462500</td>\n",
              "      <td>12.370921</td>\n",
              "      <td>8.960917</td>\n",
              "      <td>11.930524</td>\n",
              "      <td>23.325093</td>\n",
              "      <td>19.292970</td>\n",
              "      <td>8.992012</td>\n",
              "      <td>11.048194</td>\n",
              "      <td>22.900611</td>\n",
              "    </tr>\n",
              "    <tr>\n",
              "      <th>199</th>\n",
              "      <td>1.0</td>\n",
              "      <td>-0.019521</td>\n",
              "      <td>-0.120341</td>\n",
              "      <td>-0.005644</td>\n",
              "      <td>0.149171</td>\n",
              "      <td>-0.011682</td>\n",
              "      <td>35.996052</td>\n",
              "      <td>4.193886</td>\n",
              "      <td>14.977685</td>\n",
              "      <td>29.337302</td>\n",
              "      <td>...</td>\n",
              "      <td>18.954684</td>\n",
              "      <td>13.653778</td>\n",
              "      <td>12.369688</td>\n",
              "      <td>8.308545</td>\n",
              "      <td>11.618733</td>\n",
              "      <td>20.232917</td>\n",
              "      <td>19.240301</td>\n",
              "      <td>8.593454</td>\n",
              "      <td>10.760788</td>\n",
              "      <td>21.588088</td>\n",
              "    </tr>\n",
              "  </tbody>\n",
              "</table>\n",
              "<p>200 rows × 331 columns</p>\n",
              "</div>\n",
              "    <div class=\"colab-df-buttons\">\n",
              "\n",
              "  <div class=\"colab-df-container\">\n",
              "    <button class=\"colab-df-convert\" onclick=\"convertToInteractive('df-7d4a8b73-a3e3-4c4d-bb7b-6806305ed958')\"\n",
              "            title=\"Convert this dataframe to an interactive table.\"\n",
              "            style=\"display:none;\">\n",
              "\n",
              "  <svg xmlns=\"http://www.w3.org/2000/svg\" height=\"24px\" viewBox=\"0 -960 960 960\">\n",
              "    <path d=\"M120-120v-720h720v720H120Zm60-500h600v-160H180v160Zm220 220h160v-160H400v160Zm0 220h160v-160H400v160ZM180-400h160v-160H180v160Zm440 0h160v-160H620v160ZM180-180h160v-160H180v160Zm440 0h160v-160H620v160Z\"/>\n",
              "  </svg>\n",
              "    </button>\n",
              "\n",
              "  <style>\n",
              "    .colab-df-container {\n",
              "      display:flex;\n",
              "      gap: 12px;\n",
              "    }\n",
              "\n",
              "    .colab-df-convert {\n",
              "      background-color: #E8F0FE;\n",
              "      border: none;\n",
              "      border-radius: 50%;\n",
              "      cursor: pointer;\n",
              "      display: none;\n",
              "      fill: #1967D2;\n",
              "      height: 32px;\n",
              "      padding: 0 0 0 0;\n",
              "      width: 32px;\n",
              "    }\n",
              "\n",
              "    .colab-df-convert:hover {\n",
              "      background-color: #E2EBFA;\n",
              "      box-shadow: 0px 1px 2px rgba(60, 64, 67, 0.3), 0px 1px 3px 1px rgba(60, 64, 67, 0.15);\n",
              "      fill: #174EA6;\n",
              "    }\n",
              "\n",
              "    .colab-df-buttons div {\n",
              "      margin-bottom: 4px;\n",
              "    }\n",
              "\n",
              "    [theme=dark] .colab-df-convert {\n",
              "      background-color: #3B4455;\n",
              "      fill: #D2E3FC;\n",
              "    }\n",
              "\n",
              "    [theme=dark] .colab-df-convert:hover {\n",
              "      background-color: #434B5C;\n",
              "      box-shadow: 0px 1px 3px 1px rgba(0, 0, 0, 0.15);\n",
              "      filter: drop-shadow(0px 1px 2px rgba(0, 0, 0, 0.3));\n",
              "      fill: #FFFFFF;\n",
              "    }\n",
              "  </style>\n",
              "\n",
              "    <script>\n",
              "      const buttonEl =\n",
              "        document.querySelector('#df-7d4a8b73-a3e3-4c4d-bb7b-6806305ed958 button.colab-df-convert');\n",
              "      buttonEl.style.display =\n",
              "        google.colab.kernel.accessAllowed ? 'block' : 'none';\n",
              "\n",
              "      async function convertToInteractive(key) {\n",
              "        const element = document.querySelector('#df-7d4a8b73-a3e3-4c4d-bb7b-6806305ed958');\n",
              "        const dataTable =\n",
              "          await google.colab.kernel.invokeFunction('convertToInteractive',\n",
              "                                                    [key], {});\n",
              "        if (!dataTable) return;\n",
              "\n",
              "        const docLinkHtml = 'Like what you see? Visit the ' +\n",
              "          '<a target=\"_blank\" href=https://colab.research.google.com/notebooks/data_table.ipynb>data table notebook</a>'\n",
              "          + ' to learn more about interactive tables.';\n",
              "        element.innerHTML = '';\n",
              "        dataTable['output_type'] = 'display_data';\n",
              "        await google.colab.output.renderOutput(dataTable, element);\n",
              "        const docLink = document.createElement('div');\n",
              "        docLink.innerHTML = docLinkHtml;\n",
              "        element.appendChild(docLink);\n",
              "      }\n",
              "    </script>\n",
              "  </div>\n",
              "\n",
              "\n",
              "<div id=\"df-f216eca5-f6b7-499d-9d75-945aac931208\">\n",
              "  <button class=\"colab-df-quickchart\" onclick=\"quickchart('df-f216eca5-f6b7-499d-9d75-945aac931208')\"\n",
              "            title=\"Suggest charts\"\n",
              "            style=\"display:none;\">\n",
              "\n",
              "<svg xmlns=\"http://www.w3.org/2000/svg\" height=\"24px\"viewBox=\"0 0 24 24\"\n",
              "     width=\"24px\">\n",
              "    <g>\n",
              "        <path d=\"M19 3H5c-1.1 0-2 .9-2 2v14c0 1.1.9 2 2 2h14c1.1 0 2-.9 2-2V5c0-1.1-.9-2-2-2zM9 17H7v-7h2v7zm4 0h-2V7h2v10zm4 0h-2v-4h2v4z\"/>\n",
              "    </g>\n",
              "</svg>\n",
              "  </button>\n",
              "\n",
              "<style>\n",
              "  .colab-df-quickchart {\n",
              "      --bg-color: #E8F0FE;\n",
              "      --fill-color: #1967D2;\n",
              "      --hover-bg-color: #E2EBFA;\n",
              "      --hover-fill-color: #174EA6;\n",
              "      --disabled-fill-color: #AAA;\n",
              "      --disabled-bg-color: #DDD;\n",
              "  }\n",
              "\n",
              "  [theme=dark] .colab-df-quickchart {\n",
              "      --bg-color: #3B4455;\n",
              "      --fill-color: #D2E3FC;\n",
              "      --hover-bg-color: #434B5C;\n",
              "      --hover-fill-color: #FFFFFF;\n",
              "      --disabled-bg-color: #3B4455;\n",
              "      --disabled-fill-color: #666;\n",
              "  }\n",
              "\n",
              "  .colab-df-quickchart {\n",
              "    background-color: var(--bg-color);\n",
              "    border: none;\n",
              "    border-radius: 50%;\n",
              "    cursor: pointer;\n",
              "    display: none;\n",
              "    fill: var(--fill-color);\n",
              "    height: 32px;\n",
              "    padding: 0;\n",
              "    width: 32px;\n",
              "  }\n",
              "\n",
              "  .colab-df-quickchart:hover {\n",
              "    background-color: var(--hover-bg-color);\n",
              "    box-shadow: 0 1px 2px rgba(60, 64, 67, 0.3), 0 1px 3px 1px rgba(60, 64, 67, 0.15);\n",
              "    fill: var(--button-hover-fill-color);\n",
              "  }\n",
              "\n",
              "  .colab-df-quickchart-complete:disabled,\n",
              "  .colab-df-quickchart-complete:disabled:hover {\n",
              "    background-color: var(--disabled-bg-color);\n",
              "    fill: var(--disabled-fill-color);\n",
              "    box-shadow: none;\n",
              "  }\n",
              "\n",
              "  .colab-df-spinner {\n",
              "    border: 2px solid var(--fill-color);\n",
              "    border-color: transparent;\n",
              "    border-bottom-color: var(--fill-color);\n",
              "    animation:\n",
              "      spin 1s steps(1) infinite;\n",
              "  }\n",
              "\n",
              "  @keyframes spin {\n",
              "    0% {\n",
              "      border-color: transparent;\n",
              "      border-bottom-color: var(--fill-color);\n",
              "      border-left-color: var(--fill-color);\n",
              "    }\n",
              "    20% {\n",
              "      border-color: transparent;\n",
              "      border-left-color: var(--fill-color);\n",
              "      border-top-color: var(--fill-color);\n",
              "    }\n",
              "    30% {\n",
              "      border-color: transparent;\n",
              "      border-left-color: var(--fill-color);\n",
              "      border-top-color: var(--fill-color);\n",
              "      border-right-color: var(--fill-color);\n",
              "    }\n",
              "    40% {\n",
              "      border-color: transparent;\n",
              "      border-right-color: var(--fill-color);\n",
              "      border-top-color: var(--fill-color);\n",
              "    }\n",
              "    60% {\n",
              "      border-color: transparent;\n",
              "      border-right-color: var(--fill-color);\n",
              "    }\n",
              "    80% {\n",
              "      border-color: transparent;\n",
              "      border-right-color: var(--fill-color);\n",
              "      border-bottom-color: var(--fill-color);\n",
              "    }\n",
              "    90% {\n",
              "      border-color: transparent;\n",
              "      border-bottom-color: var(--fill-color);\n",
              "    }\n",
              "  }\n",
              "</style>\n",
              "\n",
              "  <script>\n",
              "    async function quickchart(key) {\n",
              "      const quickchartButtonEl =\n",
              "        document.querySelector('#' + key + ' button');\n",
              "      quickchartButtonEl.disabled = true;  // To prevent multiple clicks.\n",
              "      quickchartButtonEl.classList.add('colab-df-spinner');\n",
              "      try {\n",
              "        const charts = await google.colab.kernel.invokeFunction(\n",
              "            'suggestCharts', [key], {});\n",
              "      } catch (error) {\n",
              "        console.error('Error during call to suggestCharts:', error);\n",
              "      }\n",
              "      quickchartButtonEl.classList.remove('colab-df-spinner');\n",
              "      quickchartButtonEl.classList.add('colab-df-quickchart-complete');\n",
              "    }\n",
              "    (() => {\n",
              "      let quickchartButtonEl =\n",
              "        document.querySelector('#df-f216eca5-f6b7-499d-9d75-945aac931208 button');\n",
              "      quickchartButtonEl.style.display =\n",
              "        google.colab.kernel.accessAllowed ? 'block' : 'none';\n",
              "    })();\n",
              "  </script>\n",
              "</div>\n",
              "\n",
              "  <div id=\"id_dc91aff7-3a78-4a4c-8573-3cad7b2a6796\">\n",
              "    <style>\n",
              "      .colab-df-generate {\n",
              "        background-color: #E8F0FE;\n",
              "        border: none;\n",
              "        border-radius: 50%;\n",
              "        cursor: pointer;\n",
              "        display: none;\n",
              "        fill: #1967D2;\n",
              "        height: 32px;\n",
              "        padding: 0 0 0 0;\n",
              "        width: 32px;\n",
              "      }\n",
              "\n",
              "      .colab-df-generate:hover {\n",
              "        background-color: #E2EBFA;\n",
              "        box-shadow: 0px 1px 2px rgba(60, 64, 67, 0.3), 0px 1px 3px 1px rgba(60, 64, 67, 0.15);\n",
              "        fill: #174EA6;\n",
              "      }\n",
              "\n",
              "      [theme=dark] .colab-df-generate {\n",
              "        background-color: #3B4455;\n",
              "        fill: #D2E3FC;\n",
              "      }\n",
              "\n",
              "      [theme=dark] .colab-df-generate:hover {\n",
              "        background-color: #434B5C;\n",
              "        box-shadow: 0px 1px 3px 1px rgba(0, 0, 0, 0.15);\n",
              "        filter: drop-shadow(0px 1px 2px rgba(0, 0, 0, 0.3));\n",
              "        fill: #FFFFFF;\n",
              "      }\n",
              "    </style>\n",
              "    <button class=\"colab-df-generate\" onclick=\"generateWithVariable('trace')\"\n",
              "            title=\"Generate code using this dataframe.\"\n",
              "            style=\"display:none;\">\n",
              "\n",
              "  <svg xmlns=\"http://www.w3.org/2000/svg\" height=\"24px\"viewBox=\"0 0 24 24\"\n",
              "       width=\"24px\">\n",
              "    <path d=\"M7,19H8.4L18.45,9,17,7.55,7,17.6ZM5,21V16.75L18.45,3.32a2,2,0,0,1,2.83,0l1.4,1.43a1.91,1.91,0,0,1,.58,1.4,1.91,1.91,0,0,1-.58,1.4L9.25,21ZM18.45,9,17,7.55Zm-12,3A5.31,5.31,0,0,0,4.9,8.1,5.31,5.31,0,0,0,1,6.5,5.31,5.31,0,0,0,4.9,4.9,5.31,5.31,0,0,0,6.5,1,5.31,5.31,0,0,0,8.1,4.9,5.31,5.31,0,0,0,12,6.5,5.46,5.46,0,0,0,6.5,12Z\"/>\n",
              "  </svg>\n",
              "    </button>\n",
              "    <script>\n",
              "      (() => {\n",
              "      const buttonEl =\n",
              "        document.querySelector('#id_dc91aff7-3a78-4a4c-8573-3cad7b2a6796 button.colab-df-generate');\n",
              "      buttonEl.style.display =\n",
              "        google.colab.kernel.accessAllowed ? 'block' : 'none';\n",
              "\n",
              "      buttonEl.onclick = () => {\n",
              "        google.colab.notebook.generateWithVariable('trace');\n",
              "      }\n",
              "      })();\n",
              "    </script>\n",
              "  </div>\n",
              "\n",
              "    </div>\n",
              "  </div>\n"
            ]
          },
          "metadata": {},
          "execution_count": 149
        }
      ]
    },
    {
      "cell_type": "code",
      "source": [
        "trace[[c for c in trace.columns if c.startswith('alpha')]].plot();"
      ],
      "metadata": {
        "id": "xrMeEGc9sT4o",
        "colab": {
          "base_uri": "https://localhost:8080/",
          "height": 430
        },
        "outputId": "23f3a22a-35fc-4d81-c30b-3ea4f0e202a0"
      },
      "execution_count": 150,
      "outputs": [
        {
          "output_type": "display_data",
          "data": {
            "text/plain": [
              "<Figure size 640x480 with 1 Axes>"
            ],
            "image/png": "[encoded data removed]"
          },
          "metadata": {}
        }
      ]
    },
    {
      "cell_type": "code",
      "source": [
        "#trace[['alpha']].plot();"
      ],
      "metadata": {
        "id": "sHgokzMUrMjy"
      },
      "execution_count": null,
      "outputs": []
    },
    {
      "cell_type": "code",
      "source": [
        "trace[[c for c in trace.columns if c.startswith('mu_w')]].plot();"
      ],
      "metadata": {
        "id": "nIccDcdDrQ9i",
        "colab": {
          "base_uri": "https://localhost:8080/",
          "height": 430
        },
        "outputId": "faaa1c5a-541c-4a46-8a4d-347c5b5fbd02"
      },
      "execution_count": 151,
      "outputs": [
        {
          "output_type": "display_data",
          "data": {
            "text/plain": [
              "<Figure size 640x480 with 1 Axes>"
            ],
            "image/png": "[encoded data removed]"
          },
          "metadata": {}
        }
      ]
    },
    {
      "cell_type": "code",
      "source": [
        "trace[[c for c in trace.columns if c.startswith('lambda_w')]].plot();"
      ],
      "metadata": {
        "id": "jPbKNdZ7rZhh",
        "colab": {
          "base_uri": "https://localhost:8080/",
          "height": 430
        },
        "outputId": "99e84701-5506-4668-b12a-fc46ee4a3b04"
      },
      "execution_count": 152,
      "outputs": [
        {
          "output_type": "display_data",
          "data": {
            "text/plain": [
              "<Figure size 640x480 with 1 Axes>"
            ],
            "image/png": "[encoded data removed]"
          },
          "metadata": {}
        }
      ]
    },
    {
      "cell_type": "code",
      "source": [
        "#trace[[c for c in trace.columns if c.startswith('mu_V')]].plot();"
      ],
      "metadata": {
        "id": "K4TZpOyKrelT"
      },
      "execution_count": null,
      "outputs": []
    },
    {
      "cell_type": "code",
      "source": [
        "#trace[[c for c in trace.columns if c.startswith('lambda_V')]].plot();"
      ],
      "metadata": {
        "id": "-zqoW6MTri2s"
      },
      "execution_count": null,
      "outputs": []
    },
    {
      "cell_type": "code",
      "source": [
        "from matplotlib import pyplot as plt\n",
        "cp_mean = cutpoints.mean(axis=0)\n",
        "cp_std = cutpoints.std(axis=0)\n",
        "plt.plot(np.arange(1, 5), cp_mean);\n",
        "plt.fill_between(\n",
        "np.arange(1, 5), cp_mean + 2*cp_std, cp_mean - 2 * cp_std,\n",
        "alpha=0.3\n",
        ")\n",
        "plt.title('rating boundary vs cutpoint')"
      ],
      "metadata": {
        "id": "2GCJFWXrr2-5",
        "colab": {
          "base_uri": "https://localhost:8080/",
          "height": 470
        },
        "outputId": "0e7ed0fa-bfbb-48b2-9ba2-92a8664cc970"
      },
      "execution_count": 153,
      "outputs": [
        {
          "output_type": "execute_result",
          "data": {
            "text/plain": [
              "Text(0.5, 1.0, 'rating boundary vs cutpoint')"
            ]
          },
          "metadata": {},
          "execution_count": 153
        },
        {
          "output_type": "display_data",
          "data": {
            "text/plain": [
              "<Figure size 640x480 with 1 Axes>"
            ],
            "image/png": "[encoded data removed]"
          },
          "metadata": {}
        }
      ]
    }
  ],
  "metadata": {
    "accelerator": "TPU",
    "colab": {
      "machine_shape": "hm",
      "provenance": []
    },
    "kernelspec": {
      "display_name": "Python 3",
      "name": "python3"
    }
  },
  "nbformat": 4,
  "nbformat_minor": 0
}